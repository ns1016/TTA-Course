{
 "cells": [
  {
   "cell_type": "markdown",
   "source": [
    "Task-1"
   ],
   "metadata": {}
  },
  {
   "cell_type": "code",
   "execution_count": 1,
   "source": [
    "import random"
   ],
   "outputs": [],
   "metadata": {}
  },
  {
   "cell_type": "code",
   "execution_count": 9,
   "source": [
    "my_name=input('Hello! What is you name?')\r\n",
    "number=random.randint(1,10)\r\n",
    "print('Well,' + my_name + ' I am thinking of a number between 1 and 10.')\r\n",
    "guess = int(input(\"Take a guess\"))\r\n",
    "if guess==number:\r\n",
    "   print(\"Good job, \" + my_name + \"! You guessed my number\") \r\n",
    "else:\r\n",
    "    print('Try again please')"
   ],
   "outputs": [
    {
     "output_type": "stream",
     "name": "stdout",
     "text": [
      "Well,hello I am thinking of a number between 1 and 10.\n",
      "Try again please\n"
     ]
    }
   ],
   "metadata": {}
  },
  {
   "cell_type": "markdown",
   "source": [
    "Task-2"
   ],
   "metadata": {}
  },
  {
   "cell_type": "code",
   "execution_count": 15,
   "source": [
    "favourite_number=int(input('What is your favourite number between 1 and 100'))\r\n",
    "if favourite_number < 35:\r\n",
    "    print('Joke 1')\r\n",
    "elif favourite_number>=35 and favourite_number < 70:\r\n",
    "    print('Joke 2')\r\n",
    "elif favourite_number>=70 and favourite_number<101:\r\n",
    "    print('Joke 3')\r\n",
    "else:\r\n",
    "    print('Wrong number! Please enter valid number')\r\n"
   ],
   "outputs": [
    {
     "output_type": "stream",
     "name": "stdout",
     "text": [
      "Joke 2\n"
     ]
    }
   ],
   "metadata": {}
  },
  {
   "cell_type": "markdown",
   "source": [
    "Task-3"
   ],
   "metadata": {}
  },
  {
   "cell_type": "code",
   "execution_count": 17,
   "source": [
    "favourite_starter= input('What is your favourite starter?')\r\n",
    "main_course=input('what is your favourite main course')\r\n",
    "desert=input('what is your favourite desert')\r\n",
    "drink=input('what is your favourite drink')\r\n",
    "print('Your favourite meal is', favourite_starter,',', main_course,'and', desert,'with a glass of',drink)"
   ],
   "outputs": [
    {
     "output_type": "stream",
     "name": "stdout",
     "text": [
      "Your favourite meal is Cheese , Fish and Cake with a glass of fresh oraange juice\n"
     ]
    }
   ],
   "metadata": {}
  },
  {
   "cell_type": "markdown",
   "source": [
    "Task-4\r\n",
    "A motorbike costs £2000 and loses 10% of its value every year. Using a \r\n",
    "loop, print the value of the bike every following year until it falls below \r\n",
    "£1000"
   ],
   "metadata": {}
  },
  {
   "cell_type": "code",
   "execution_count": 29,
   "source": [
    "i=2000\r\n",
    "year=0\r\n",
    "while i >=100:\r\n",
    "    print('Year:',year,'---->', 'Motorbike Price:',i)\r\n",
    "    year=year+1\r\n",
    "    i=i-i*0.1\r\n",
    "    if i<=1000:\r\n",
    "        break"
   ],
   "outputs": [
    {
     "output_type": "stream",
     "name": "stdout",
     "text": [
      "Year: 0 ----> Motorbike Price: 2000\n",
      "Year: 1 ----> Motorbike Price: 1800.0\n",
      "Year: 2 ----> Motorbike Price: 1620.0\n",
      "Year: 3 ----> Motorbike Price: 1458.0\n",
      "Year: 4 ----> Motorbike Price: 1312.2\n",
      "Year: 5 ----> Motorbike Price: 1180.98\n",
      "Year: 6 ----> Motorbike Price: 1062.882\n"
     ]
    }
   ],
   "metadata": {}
  },
  {
   "cell_type": "markdown",
   "source": [
    "Task-5"
   ],
   "metadata": {}
  },
  {
   "cell_type": "code",
   "execution_count": 41,
   "source": [
    "number1=int(input('Please enter a number'))\r\n",
    "number2=int(input('Please enter another number'))\r\n",
    "def showMenu():\r\n",
    "    print (\"\\nChoice menu\")\r\n",
    "    print (\"-----------------\")\r\n",
    "    print (\" Enter “a” if you want to add\")\r\n",
    "    print (\" Enter “b” if you want to subtract\")\r\n",
    "    print (\" Enter “c” if you want to multiply\")\r\n",
    "    print (\" Enter “d” if you want to divide\")\r\n",
    "    print (\" Enter “e” if you want to calculate power\")\r\n",
    "    data=(input(\"Enter your choice: \"))\r\n",
    "    return data\r\n",
    "data = showMenu()\r\n",
    "if data=='a':\r\n",
    "        print(number1+number2)\r\n",
    "elif data=='b':\r\n",
    "        print(number1-number2)\r\n",
    "elif data=='c':\r\n",
    "        print(number1*number2)\r\n",
    "elif data=='d':\r\n",
    "        print(number1/number2)\r\n",
    "elif data=='e':\r\n",
    "        print(number1**number2)\r\n",
    "else:\r\n",
    "        print(\"'%s' is an unknown option.\")\r\n"
   ],
   "outputs": [
    {
     "output_type": "stream",
     "name": "stdout",
     "text": [
      "\n",
      "Choice menu\n",
      "-----------------\n",
      " Enter “a” if you want to add\n",
      " Enter “b” if you want to subtract\n",
      " Enter “c” if you want to multiply\n",
      " Enter “d” if you want to divide\n",
      " Enter “e” if you want to calculate power\n",
      "8916100448256\n"
     ]
    }
   ],
   "metadata": {}
  },
  {
   "cell_type": "markdown",
   "source": [
    "SAMPLE-1"
   ],
   "metadata": {}
  },
  {
   "cell_type": "code",
   "execution_count": null,
   "source": [
    "#procedure \r\n",
    "score = 54\r\n",
    "high_score = 86\r\n",
    "lives = 3\r\n",
    "def update_display():\r\n",
    "    print(\"Your score: \" + str(score))\r\n",
    "    print(\"High score: \" + str(high_score))\r\n",
    "    print(\"Lives remaining: \" + str(lives))\r\n",
    "# End of level\r\n",
    "update_display()\r\n",
    "# Lose a life\r\n",
    "update_display()\r\n",
    "# New high score\r\n",
    "update_display()\r\n"
   ],
   "outputs": [],
   "metadata": {}
  },
  {
   "cell_type": "markdown",
   "source": [
    "SAMPLE-2"
   ],
   "metadata": {}
  },
  {
   "cell_type": "code",
   "execution_count": null,
   "source": [
    "# Game over\r\n",
    "update_display()\r\n",
    "#fucntion \r\n",
    "import random\r\n",
    "dicelist = [1,2,3,4,5,6,7,8,9,10]\r\n",
    "def dice():\r\n",
    "    number1 = random.choice(dicelist)\r\n",
    "    number2 = random.choice(dicelist)\r\n",
    "    number = number1 + number2\r\n",
    "    print(number1)\r\n",
    "    print(number2)\r\n",
    "    #passes value to the program below\r\n",
    "    return number\r\n",
    "dice()\r\n",
    "newnumber = dice()\r\n",
    "print(\"The number returned from the function is:\", newnumber)\r\n",
    "newnumber2 = newnumber + newnumber\r\n",
    "print(newnumber2)"
   ],
   "outputs": [],
   "metadata": {}
  }
 ],
 "metadata": {
  "orig_nbformat": 4,
  "language_info": {
   "name": "python",
   "version": "3.9.7",
   "mimetype": "text/x-python",
   "codemirror_mode": {
    "name": "ipython",
    "version": 3
   },
   "pygments_lexer": "ipython3",
   "nbconvert_exporter": "python",
   "file_extension": ".py"
  },
  "kernelspec": {
   "name": "python3",
   "display_name": "Python 3.9.7 64-bit"
  },
  "interpreter": {
   "hash": "501590903289f4e72573957a8720ecfacdb8d5b4644957751e20ab792c5b1394"
  }
 },
 "nbformat": 4,
 "nbformat_minor": 2
}