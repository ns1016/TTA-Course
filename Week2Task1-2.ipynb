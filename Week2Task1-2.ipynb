{
 "cells": [
  {
   "cell_type": "markdown",
   "id": "5e9bd582",
   "metadata": {},
   "source": [
    "# Task 1"
   ]
  },
  {
   "cell_type": "code",
   "execution_count": 1,
   "id": "cd43471a",
   "metadata": {},
   "outputs": [],
   "source": [
    "import numpy as np"
   ]
  },
  {
   "cell_type": "code",
   "execution_count": 2,
   "id": "8be7e409",
   "metadata": {},
   "outputs": [],
   "source": [
    "import pandas as pd"
   ]
  },
  {
   "cell_type": "code",
   "execution_count": 19,
   "id": "c435ef58",
   "metadata": {},
   "outputs": [],
   "source": [
    "Numbers = open(\"numbers.txt\", \"w\")\n",
    "Numbers.write('3')\n",
    "Numbers.write(\"\\n\")\n",
    "Numbers.write(str(45))\n",
    "Numbers.write(\"\\n\")\n",
    "Numbers.write(str(83))\n",
    "Numbers.write(\"\\n\")\n",
    "Numbers.write(str(21))\n",
    "Numbers.close()"
   ]
  },
  {
   "cell_type": "code",
   "execution_count": 20,
   "id": "27369421",
   "metadata": {},
   "outputs": [],
   "source": [
    "Numbers=open('Numbers.txt','a')\n",
    "Numbers.write(\"\\n\")\n",
    "Numbers.write(str(67))#I added anotther number to test 'a' code\n",
    "Numbers.close()"
   ]
  },
  {
   "cell_type": "code",
   "execution_count": 23,
   "id": "60c7399d",
   "metadata": {},
   "outputs": [
    {
     "name": "stdout",
     "output_type": "stream",
     "text": [
      "3\n",
      "45\n",
      "83\n",
      "21\n",
      "67\n"
     ]
    }
   ],
   "source": [
    "mydata=Numbers.read()\n",
    "print(mydata)"
   ]
  },
  {
   "cell_type": "markdown",
   "id": "a0fd14ef",
   "metadata": {},
   "source": [
    "# Task 2"
   ]
  },
  {
   "cell_type": "code",
   "execution_count": 45,
   "id": "a23e34fb",
   "metadata": {},
   "outputs": [
    {
     "name": "stdout",
     "output_type": "stream",
     "text": [
      "What is your Mark In Percentage?:98\n",
      "You scored a GRADE A\n",
      "What is your target grade?:100\n",
      "100\n",
      "You need to do better next time \n"
     ]
    }
   ],
   "source": [
    "#Program to determine Student Grade By Inputing the Marks\n",
    "# subject_mark is the input by student\n",
    "\n",
    "def mark_grade():\n",
    "    subject_mark = int(input(\"What is your Mark In Percentage?:\"))\n",
    "    if  100 >= subject_mark >= 70:\n",
    "        print( \"You scored a GRADE A\")\n",
    "    elif 70 > subject_mark >= 60:\n",
    "        Print( \"You scored a GRADE B\")\n",
    "    elif 60 > subject_mark >= 50: \n",
    "        print(\"You scored a GRADE C\")\n",
    "    elif 50 > subject_mark >= 40:\n",
    "        print( \"You scored a GRADE D\")\n",
    "    elif subject_mark < 40:\n",
    "        Print(\"You scored a GRADE E\")\n",
    "    else:\n",
    "        print(\"You have entered an Incorrect Mark\")\n",
    "    return\n",
    "mark_grade()\n",
    "target_grade = int(input(\"What is your target grade?:\"))\n",
    "print(target_grade)\n",
    "if target_grade > subject_mark:\n",
    "    print(\"You need to do better next time \")\n",
    "elif  target_grade ==  subject_mark:\n",
    "         print(\"You were bang on target \")\n",
    "elif target_grade < subject_mark:\n",
    "    print(\"You have done very well.\")"
   ]
  },
  {
   "cell_type": "code",
   "execution_count": null,
   "id": "620f04e3",
   "metadata": {},
   "outputs": [],
   "source": []
  }
 ],
 "metadata": {
  "kernelspec": {
   "display_name": "Python 3",
   "language": "python",
   "name": "python3"
  },
  "language_info": {
   "codemirror_mode": {
    "name": "ipython",
    "version": 3
   },
   "file_extension": ".py",
   "mimetype": "text/x-python",
   "name": "python",
   "nbconvert_exporter": "python",
   "pygments_lexer": "ipython3",
   "version": "3.8.8"
  }
 },
 "nbformat": 4,
 "nbformat_minor": 5
}
