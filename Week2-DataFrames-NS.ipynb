{
 "cells": [
  {
   "cell_type": "markdown",
   "id": "fb3777ab",
   "metadata": {},
   "source": [
    "# Data Frames Homework"
   ]
  },
  {
   "cell_type": "raw",
   "id": "08a39622",
   "metadata": {},
   "source": [
    "Create a CSV file of 15 holiday destinations for a website \n",
    "\n",
    "Add in a column of destinations\n",
    "Add in a column that shows feedback score out of 10 for that destination\n",
    "Add in a column for average hotel star rating for those destinations \n",
    "Add in a column for number of all-inclusive hotels within each destination\n",
    "Add in the most visited city in each destination\n"
   ]
  },
  {
   "cell_type": "markdown",
   "id": "120f9b16",
   "metadata": {},
   "source": [
    "<img src=\"Pic2.jpg\" style=\"width:1000px;height:400px\"/>"
   ]
  },
  {
   "cell_type": "markdown",
   "id": "1027cf62",
   "metadata": {},
   "source": [
    "![](Pic3.jpg)"
   ]
  },
  {
   "cell_type": "markdown",
   "id": "fac23333",
   "metadata": {},
   "source": [
    "1-How many rows and columns are there in your file?"
   ]
  },
  {
   "cell_type": "code",
   "execution_count": 3,
   "id": "ed215a79",
   "metadata": {},
   "outputs": [],
   "source": [
    "import pandas as pd"
   ]
  },
  {
   "cell_type": "code",
   "execution_count": 41,
   "id": "40e2efb5",
   "metadata": {},
   "outputs": [],
   "source": [
    "df=pd.read_csv('Destinations.csv')"
   ]
  },
  {
   "cell_type": "code",
   "execution_count": 5,
   "id": "de33409e",
   "metadata": {},
   "outputs": [
    {
     "data": {
      "text/html": [
       "<div>\n",
       "<style scoped>\n",
       "    .dataframe tbody tr th:only-of-type {\n",
       "        vertical-align: middle;\n",
       "    }\n",
       "\n",
       "    .dataframe tbody tr th {\n",
       "        vertical-align: top;\n",
       "    }\n",
       "\n",
       "    .dataframe thead th {\n",
       "        text-align: right;\n",
       "    }\n",
       "</style>\n",
       "<table border=\"1\" class=\"dataframe\">\n",
       "  <thead>\n",
       "    <tr style=\"text-align: right;\">\n",
       "      <th></th>\n",
       "      <th>Destinations</th>\n",
       "      <th>Feedback Score</th>\n",
       "      <th>Hotel</th>\n",
       "      <th>City</th>\n",
       "      <th>Rank</th>\n",
       "      <th>Tourists_Millions</th>\n",
       "    </tr>\n",
       "  </thead>\n",
       "  <tbody>\n",
       "    <tr>\n",
       "      <th>0</th>\n",
       "      <td>Hong Kong</td>\n",
       "      <td>9.2</td>\n",
       "      <td>120</td>\n",
       "      <td>Hong Kong</td>\n",
       "      <td>1</td>\n",
       "      <td>23.7</td>\n",
       "    </tr>\n",
       "    <tr>\n",
       "      <th>1</th>\n",
       "      <td>Singapore</td>\n",
       "      <td>9.1</td>\n",
       "      <td>150</td>\n",
       "      <td>Singapore</td>\n",
       "      <td>2</td>\n",
       "      <td>21.3</td>\n",
       "    </tr>\n",
       "    <tr>\n",
       "      <th>2</th>\n",
       "      <td>Thailand</td>\n",
       "      <td>9.0</td>\n",
       "      <td>160</td>\n",
       "      <td>Bangkok</td>\n",
       "      <td>3</td>\n",
       "      <td>15.8</td>\n",
       "    </tr>\n",
       "    <tr>\n",
       "      <th>3</th>\n",
       "      <td>UK</td>\n",
       "      <td>8.8</td>\n",
       "      <td>180</td>\n",
       "      <td>London</td>\n",
       "      <td>4</td>\n",
       "      <td>15.5</td>\n",
       "    </tr>\n",
       "    <tr>\n",
       "      <th>4</th>\n",
       "      <td>Macau</td>\n",
       "      <td>8.7</td>\n",
       "      <td>80</td>\n",
       "      <td>Macau</td>\n",
       "      <td>5</td>\n",
       "      <td>13.4</td>\n",
       "    </tr>\n",
       "    <tr>\n",
       "      <th>5</th>\n",
       "      <td>Malaysia</td>\n",
       "      <td>8.6</td>\n",
       "      <td>100</td>\n",
       "      <td>Kuala Lumpur</td>\n",
       "      <td>6</td>\n",
       "      <td>13.3</td>\n",
       "    </tr>\n",
       "    <tr>\n",
       "      <th>6</th>\n",
       "      <td>China</td>\n",
       "      <td>8.4</td>\n",
       "      <td>120</td>\n",
       "      <td>Shenzhen</td>\n",
       "      <td>7</td>\n",
       "      <td>12.1</td>\n",
       "    </tr>\n",
       "    <tr>\n",
       "      <th>7</th>\n",
       "      <td>USA</td>\n",
       "      <td>8.3</td>\n",
       "      <td>130</td>\n",
       "      <td>New York City</td>\n",
       "      <td>8</td>\n",
       "      <td>11.6</td>\n",
       "    </tr>\n",
       "    <tr>\n",
       "      <th>8</th>\n",
       "      <td>Turkey</td>\n",
       "      <td>8.2</td>\n",
       "      <td>125</td>\n",
       "      <td>Antalya</td>\n",
       "      <td>9</td>\n",
       "      <td>10.3</td>\n",
       "    </tr>\n",
       "    <tr>\n",
       "      <th>9</th>\n",
       "      <td>France</td>\n",
       "      <td>8.1</td>\n",
       "      <td>112</td>\n",
       "      <td>Paris</td>\n",
       "      <td>10</td>\n",
       "      <td>9.8</td>\n",
       "    </tr>\n",
       "    <tr>\n",
       "      <th>10</th>\n",
       "      <td>Italy</td>\n",
       "      <td>7.9</td>\n",
       "      <td>89</td>\n",
       "      <td>Rome</td>\n",
       "      <td>11</td>\n",
       "      <td>8.7</td>\n",
       "    </tr>\n",
       "    <tr>\n",
       "      <th>11</th>\n",
       "      <td>UAE</td>\n",
       "      <td>7.8</td>\n",
       "      <td>123</td>\n",
       "      <td>Dubai</td>\n",
       "      <td>12</td>\n",
       "      <td>8.0</td>\n",
       "    </tr>\n",
       "    <tr>\n",
       "      <th>12</th>\n",
       "      <td>Russia</td>\n",
       "      <td>7.7</td>\n",
       "      <td>98</td>\n",
       "      <td>Moscow</td>\n",
       "      <td>13</td>\n",
       "      <td>7.9</td>\n",
       "    </tr>\n",
       "    <tr>\n",
       "      <th>13</th>\n",
       "      <td>Czech Republic</td>\n",
       "      <td>7.6</td>\n",
       "      <td>105</td>\n",
       "      <td>Praque</td>\n",
       "      <td>14</td>\n",
       "      <td>6.5</td>\n",
       "    </tr>\n",
       "    <tr>\n",
       "      <th>14</th>\n",
       "      <td>Spain</td>\n",
       "      <td>7.5</td>\n",
       "      <td>103</td>\n",
       "      <td>Barcelona</td>\n",
       "      <td>15</td>\n",
       "      <td>5.5</td>\n",
       "    </tr>\n",
       "  </tbody>\n",
       "</table>\n",
       "</div>"
      ],
      "text/plain": [
       "      Destinations  Feedback Score  Hotel           City  Rank  \\\n",
       "0        Hong Kong             9.2    120      Hong Kong     1   \n",
       "1        Singapore             9.1    150      Singapore     2   \n",
       "2         Thailand             9.0    160        Bangkok     3   \n",
       "3               UK             8.8    180         London     4   \n",
       "4            Macau             8.7     80          Macau     5   \n",
       "5         Malaysia             8.6    100   Kuala Lumpur     6   \n",
       "6            China             8.4    120       Shenzhen     7   \n",
       "7              USA             8.3    130  New York City     8   \n",
       "8           Turkey             8.2    125        Antalya     9   \n",
       "9           France             8.1    112          Paris    10   \n",
       "10           Italy             7.9     89           Rome    11   \n",
       "11             UAE             7.8    123          Dubai    12   \n",
       "12          Russia             7.7     98         Moscow    13   \n",
       "13  Czech Republic             7.6    105         Praque    14   \n",
       "14           Spain             7.5    103      Barcelona    15   \n",
       "\n",
       "    Tourists_Millions  \n",
       "0                23.7  \n",
       "1                21.3  \n",
       "2                15.8  \n",
       "3                15.5  \n",
       "4                13.4  \n",
       "5                13.3  \n",
       "6                12.1  \n",
       "7                11.6  \n",
       "8                10.3  \n",
       "9                 9.8  \n",
       "10                8.7  \n",
       "11                8.0  \n",
       "12                7.9  \n",
       "13                6.5  \n",
       "14                5.5  "
      ]
     },
     "execution_count": 5,
     "metadata": {},
     "output_type": "execute_result"
    }
   ],
   "source": [
    "df"
   ]
  },
  {
   "cell_type": "code",
   "execution_count": 6,
   "id": "3f5965f9",
   "metadata": {},
   "outputs": [
    {
     "name": "stdout",
     "output_type": "stream",
     "text": [
      "<class 'pandas.core.frame.DataFrame'>\n",
      "RangeIndex: 15 entries, 0 to 14\n",
      "Data columns (total 6 columns):\n",
      " #   Column             Non-Null Count  Dtype  \n",
      "---  ------             --------------  -----  \n",
      " 0   Destinations       15 non-null     object \n",
      " 1   Feedback Score     15 non-null     float64\n",
      " 2   Hotel              15 non-null     int64  \n",
      " 3   City               15 non-null     object \n",
      " 4   Rank               15 non-null     int64  \n",
      " 5   Tourists_Millions  15 non-null     float64\n",
      "dtypes: float64(2), int64(2), object(2)\n",
      "memory usage: 848.0+ bytes\n"
     ]
    }
   ],
   "source": [
    "df.info()"
   ]
  },
  {
   "cell_type": "markdown",
   "id": "8ebb735d",
   "metadata": {},
   "source": [
    "2-Print row 3-8 ( using iloc/loc)."
   ]
  },
  {
   "cell_type": "code",
   "execution_count": 7,
   "id": "d56245ab",
   "metadata": {},
   "outputs": [
    {
     "data": {
      "text/html": [
       "<div>\n",
       "<style scoped>\n",
       "    .dataframe tbody tr th:only-of-type {\n",
       "        vertical-align: middle;\n",
       "    }\n",
       "\n",
       "    .dataframe tbody tr th {\n",
       "        vertical-align: top;\n",
       "    }\n",
       "\n",
       "    .dataframe thead th {\n",
       "        text-align: right;\n",
       "    }\n",
       "</style>\n",
       "<table border=\"1\" class=\"dataframe\">\n",
       "  <thead>\n",
       "    <tr style=\"text-align: right;\">\n",
       "      <th></th>\n",
       "      <th>Destinations</th>\n",
       "      <th>Feedback Score</th>\n",
       "      <th>Hotel</th>\n",
       "      <th>City</th>\n",
       "      <th>Rank</th>\n",
       "      <th>Tourists_Millions</th>\n",
       "    </tr>\n",
       "  </thead>\n",
       "  <tbody>\n",
       "    <tr>\n",
       "      <th>3</th>\n",
       "      <td>UK</td>\n",
       "      <td>8.8</td>\n",
       "      <td>180</td>\n",
       "      <td>London</td>\n",
       "      <td>4</td>\n",
       "      <td>15.5</td>\n",
       "    </tr>\n",
       "    <tr>\n",
       "      <th>4</th>\n",
       "      <td>Macau</td>\n",
       "      <td>8.7</td>\n",
       "      <td>80</td>\n",
       "      <td>Macau</td>\n",
       "      <td>5</td>\n",
       "      <td>13.4</td>\n",
       "    </tr>\n",
       "    <tr>\n",
       "      <th>5</th>\n",
       "      <td>Malaysia</td>\n",
       "      <td>8.6</td>\n",
       "      <td>100</td>\n",
       "      <td>Kuala Lumpur</td>\n",
       "      <td>6</td>\n",
       "      <td>13.3</td>\n",
       "    </tr>\n",
       "    <tr>\n",
       "      <th>6</th>\n",
       "      <td>China</td>\n",
       "      <td>8.4</td>\n",
       "      <td>120</td>\n",
       "      <td>Shenzhen</td>\n",
       "      <td>7</td>\n",
       "      <td>12.1</td>\n",
       "    </tr>\n",
       "    <tr>\n",
       "      <th>7</th>\n",
       "      <td>USA</td>\n",
       "      <td>8.3</td>\n",
       "      <td>130</td>\n",
       "      <td>New York City</td>\n",
       "      <td>8</td>\n",
       "      <td>11.6</td>\n",
       "    </tr>\n",
       "  </tbody>\n",
       "</table>\n",
       "</div>"
      ],
      "text/plain": [
       "  Destinations  Feedback Score  Hotel           City  Rank  Tourists_Millions\n",
       "3           UK             8.8    180         London     4               15.5\n",
       "4        Macau             8.7     80          Macau     5               13.4\n",
       "5     Malaysia             8.6    100   Kuala Lumpur     6               13.3\n",
       "6        China             8.4    120       Shenzhen     7               12.1\n",
       "7          USA             8.3    130  New York City     8               11.6"
      ]
     },
     "execution_count": 7,
     "metadata": {},
     "output_type": "execute_result"
    }
   ],
   "source": [
    "df.iloc[3:8]"
   ]
  },
  {
   "cell_type": "markdown",
   "id": "a572f801",
   "metadata": {},
   "source": [
    "3-Find the mean number of all-inclusive hotels across all destinations.\n"
   ]
  },
  {
   "cell_type": "code",
   "execution_count": 8,
   "id": "7e58f7cb",
   "metadata": {},
   "outputs": [
    {
     "data": {
      "text/plain": [
       "119.66666666666667"
      ]
     },
     "execution_count": 8,
     "metadata": {},
     "output_type": "execute_result"
    }
   ],
   "source": [
    "df['Hotel'].mean()"
   ]
  },
  {
   "cell_type": "markdown",
   "id": "b1acfb40",
   "metadata": {},
   "source": [
    "4-Find the lowest scoring destination"
   ]
  },
  {
   "cell_type": "code",
   "execution_count": 9,
   "id": "b6030ef1",
   "metadata": {},
   "outputs": [
    {
     "data": {
      "text/plain": [
       "14    Spain\n",
       "Name: Destinations, dtype: object"
      ]
     },
     "execution_count": 9,
     "metadata": {},
     "output_type": "execute_result"
    }
   ],
   "source": [
    "df[df['Feedback Score']==df['Feedback Score'].min()]['Destinations']"
   ]
  },
  {
   "cell_type": "markdown",
   "id": "96ee01b0",
   "metadata": {},
   "source": [
    "5-Find the highest scoring destination.\n"
   ]
  },
  {
   "cell_type": "code",
   "execution_count": 10,
   "id": "633e2106",
   "metadata": {},
   "outputs": [
    {
     "data": {
      "text/html": [
       "<div>\n",
       "<style scoped>\n",
       "    .dataframe tbody tr th:only-of-type {\n",
       "        vertical-align: middle;\n",
       "    }\n",
       "\n",
       "    .dataframe tbody tr th {\n",
       "        vertical-align: top;\n",
       "    }\n",
       "\n",
       "    .dataframe thead th {\n",
       "        text-align: right;\n",
       "    }\n",
       "</style>\n",
       "<table border=\"1\" class=\"dataframe\">\n",
       "  <thead>\n",
       "    <tr style=\"text-align: right;\">\n",
       "      <th></th>\n",
       "      <th>Destinations</th>\n",
       "      <th>Feedback Score</th>\n",
       "      <th>Hotel</th>\n",
       "      <th>City</th>\n",
       "      <th>Rank</th>\n",
       "      <th>Tourists_Millions</th>\n",
       "    </tr>\n",
       "  </thead>\n",
       "  <tbody>\n",
       "    <tr>\n",
       "      <th>0</th>\n",
       "      <td>Hong Kong</td>\n",
       "      <td>9.2</td>\n",
       "      <td>120</td>\n",
       "      <td>Hong Kong</td>\n",
       "      <td>1</td>\n",
       "      <td>23.7</td>\n",
       "    </tr>\n",
       "  </tbody>\n",
       "</table>\n",
       "</div>"
      ],
      "text/plain": [
       "  Destinations  Feedback Score  Hotel       City  Rank  Tourists_Millions\n",
       "0    Hong Kong             9.2    120  Hong Kong     1               23.7"
      ]
     },
     "execution_count": 10,
     "metadata": {},
     "output_type": "execute_result"
    }
   ],
   "source": [
    "df[df['Feedback Score']==df['Feedback Score'].max()]"
   ]
  },
  {
   "cell_type": "markdown",
   "id": "4e99905e",
   "metadata": {},
   "source": [
    "6 Find all the destinations where there are more than 9 all-inclusive hotels. \n"
   ]
  },
  {
   "cell_type": "code",
   "execution_count": 11,
   "id": "64a6fe11",
   "metadata": {},
   "outputs": [
    {
     "data": {
      "text/html": [
       "<div>\n",
       "<style scoped>\n",
       "    .dataframe tbody tr th:only-of-type {\n",
       "        vertical-align: middle;\n",
       "    }\n",
       "\n",
       "    .dataframe tbody tr th {\n",
       "        vertical-align: top;\n",
       "    }\n",
       "\n",
       "    .dataframe thead th {\n",
       "        text-align: right;\n",
       "    }\n",
       "</style>\n",
       "<table border=\"1\" class=\"dataframe\">\n",
       "  <thead>\n",
       "    <tr style=\"text-align: right;\">\n",
       "      <th></th>\n",
       "      <th>Destinations</th>\n",
       "      <th>Feedback Score</th>\n",
       "      <th>Hotel</th>\n",
       "      <th>City</th>\n",
       "      <th>Rank</th>\n",
       "      <th>Tourists_Millions</th>\n",
       "    </tr>\n",
       "  </thead>\n",
       "  <tbody>\n",
       "    <tr>\n",
       "      <th>0</th>\n",
       "      <td>Hong Kong</td>\n",
       "      <td>9.2</td>\n",
       "      <td>120</td>\n",
       "      <td>Hong Kong</td>\n",
       "      <td>1</td>\n",
       "      <td>23.7</td>\n",
       "    </tr>\n",
       "    <tr>\n",
       "      <th>1</th>\n",
       "      <td>Singapore</td>\n",
       "      <td>9.1</td>\n",
       "      <td>150</td>\n",
       "      <td>Singapore</td>\n",
       "      <td>2</td>\n",
       "      <td>21.3</td>\n",
       "    </tr>\n",
       "    <tr>\n",
       "      <th>2</th>\n",
       "      <td>Thailand</td>\n",
       "      <td>9.0</td>\n",
       "      <td>160</td>\n",
       "      <td>Bangkok</td>\n",
       "      <td>3</td>\n",
       "      <td>15.8</td>\n",
       "    </tr>\n",
       "    <tr>\n",
       "      <th>3</th>\n",
       "      <td>UK</td>\n",
       "      <td>8.8</td>\n",
       "      <td>180</td>\n",
       "      <td>London</td>\n",
       "      <td>4</td>\n",
       "      <td>15.5</td>\n",
       "    </tr>\n",
       "    <tr>\n",
       "      <th>4</th>\n",
       "      <td>Macau</td>\n",
       "      <td>8.7</td>\n",
       "      <td>80</td>\n",
       "      <td>Macau</td>\n",
       "      <td>5</td>\n",
       "      <td>13.4</td>\n",
       "    </tr>\n",
       "    <tr>\n",
       "      <th>5</th>\n",
       "      <td>Malaysia</td>\n",
       "      <td>8.6</td>\n",
       "      <td>100</td>\n",
       "      <td>Kuala Lumpur</td>\n",
       "      <td>6</td>\n",
       "      <td>13.3</td>\n",
       "    </tr>\n",
       "    <tr>\n",
       "      <th>6</th>\n",
       "      <td>China</td>\n",
       "      <td>8.4</td>\n",
       "      <td>120</td>\n",
       "      <td>Shenzhen</td>\n",
       "      <td>7</td>\n",
       "      <td>12.1</td>\n",
       "    </tr>\n",
       "    <tr>\n",
       "      <th>7</th>\n",
       "      <td>USA</td>\n",
       "      <td>8.3</td>\n",
       "      <td>130</td>\n",
       "      <td>New York City</td>\n",
       "      <td>8</td>\n",
       "      <td>11.6</td>\n",
       "    </tr>\n",
       "    <tr>\n",
       "      <th>8</th>\n",
       "      <td>Turkey</td>\n",
       "      <td>8.2</td>\n",
       "      <td>125</td>\n",
       "      <td>Antalya</td>\n",
       "      <td>9</td>\n",
       "      <td>10.3</td>\n",
       "    </tr>\n",
       "    <tr>\n",
       "      <th>9</th>\n",
       "      <td>France</td>\n",
       "      <td>8.1</td>\n",
       "      <td>112</td>\n",
       "      <td>Paris</td>\n",
       "      <td>10</td>\n",
       "      <td>9.8</td>\n",
       "    </tr>\n",
       "    <tr>\n",
       "      <th>10</th>\n",
       "      <td>Italy</td>\n",
       "      <td>7.9</td>\n",
       "      <td>89</td>\n",
       "      <td>Rome</td>\n",
       "      <td>11</td>\n",
       "      <td>8.7</td>\n",
       "    </tr>\n",
       "    <tr>\n",
       "      <th>11</th>\n",
       "      <td>UAE</td>\n",
       "      <td>7.8</td>\n",
       "      <td>123</td>\n",
       "      <td>Dubai</td>\n",
       "      <td>12</td>\n",
       "      <td>8.0</td>\n",
       "    </tr>\n",
       "    <tr>\n",
       "      <th>12</th>\n",
       "      <td>Russia</td>\n",
       "      <td>7.7</td>\n",
       "      <td>98</td>\n",
       "      <td>Moscow</td>\n",
       "      <td>13</td>\n",
       "      <td>7.9</td>\n",
       "    </tr>\n",
       "    <tr>\n",
       "      <th>13</th>\n",
       "      <td>Czech Republic</td>\n",
       "      <td>7.6</td>\n",
       "      <td>105</td>\n",
       "      <td>Praque</td>\n",
       "      <td>14</td>\n",
       "      <td>6.5</td>\n",
       "    </tr>\n",
       "    <tr>\n",
       "      <th>14</th>\n",
       "      <td>Spain</td>\n",
       "      <td>7.5</td>\n",
       "      <td>103</td>\n",
       "      <td>Barcelona</td>\n",
       "      <td>15</td>\n",
       "      <td>5.5</td>\n",
       "    </tr>\n",
       "  </tbody>\n",
       "</table>\n",
       "</div>"
      ],
      "text/plain": [
       "      Destinations  Feedback Score  Hotel           City  Rank  \\\n",
       "0        Hong Kong             9.2    120      Hong Kong     1   \n",
       "1        Singapore             9.1    150      Singapore     2   \n",
       "2         Thailand             9.0    160        Bangkok     3   \n",
       "3               UK             8.8    180         London     4   \n",
       "4            Macau             8.7     80          Macau     5   \n",
       "5         Malaysia             8.6    100   Kuala Lumpur     6   \n",
       "6            China             8.4    120       Shenzhen     7   \n",
       "7              USA             8.3    130  New York City     8   \n",
       "8           Turkey             8.2    125        Antalya     9   \n",
       "9           France             8.1    112          Paris    10   \n",
       "10           Italy             7.9     89           Rome    11   \n",
       "11             UAE             7.8    123          Dubai    12   \n",
       "12          Russia             7.7     98         Moscow    13   \n",
       "13  Czech Republic             7.6    105         Praque    14   \n",
       "14           Spain             7.5    103      Barcelona    15   \n",
       "\n",
       "    Tourists_Millions  \n",
       "0                23.7  \n",
       "1                21.3  \n",
       "2                15.8  \n",
       "3                15.5  \n",
       "4                13.4  \n",
       "5                13.3  \n",
       "6                12.1  \n",
       "7                11.6  \n",
       "8                10.3  \n",
       "9                 9.8  \n",
       "10                8.7  \n",
       "11                8.0  \n",
       "12                7.9  \n",
       "13                6.5  \n",
       "14                5.5  "
      ]
     },
     "execution_count": 11,
     "metadata": {},
     "output_type": "execute_result"
    }
   ],
   "source": [
    "df[df['Hotel']>9]"
   ]
  },
  {
   "cell_type": "markdown",
   "id": "9f37f716",
   "metadata": {},
   "source": [
    "7-Filter the data by score above 8. \n"
   ]
  },
  {
   "cell_type": "code",
   "execution_count": 12,
   "id": "0cd3c871",
   "metadata": {},
   "outputs": [
    {
     "data": {
      "text/html": [
       "<div>\n",
       "<style scoped>\n",
       "    .dataframe tbody tr th:only-of-type {\n",
       "        vertical-align: middle;\n",
       "    }\n",
       "\n",
       "    .dataframe tbody tr th {\n",
       "        vertical-align: top;\n",
       "    }\n",
       "\n",
       "    .dataframe thead th {\n",
       "        text-align: right;\n",
       "    }\n",
       "</style>\n",
       "<table border=\"1\" class=\"dataframe\">\n",
       "  <thead>\n",
       "    <tr style=\"text-align: right;\">\n",
       "      <th></th>\n",
       "      <th>Destinations</th>\n",
       "      <th>Feedback Score</th>\n",
       "      <th>Hotel</th>\n",
       "      <th>City</th>\n",
       "      <th>Rank</th>\n",
       "      <th>Tourists_Millions</th>\n",
       "    </tr>\n",
       "  </thead>\n",
       "  <tbody>\n",
       "    <tr>\n",
       "      <th>0</th>\n",
       "      <td>Hong Kong</td>\n",
       "      <td>9.2</td>\n",
       "      <td>120</td>\n",
       "      <td>Hong Kong</td>\n",
       "      <td>1</td>\n",
       "      <td>23.7</td>\n",
       "    </tr>\n",
       "    <tr>\n",
       "      <th>1</th>\n",
       "      <td>Singapore</td>\n",
       "      <td>9.1</td>\n",
       "      <td>150</td>\n",
       "      <td>Singapore</td>\n",
       "      <td>2</td>\n",
       "      <td>21.3</td>\n",
       "    </tr>\n",
       "    <tr>\n",
       "      <th>2</th>\n",
       "      <td>Thailand</td>\n",
       "      <td>9.0</td>\n",
       "      <td>160</td>\n",
       "      <td>Bangkok</td>\n",
       "      <td>3</td>\n",
       "      <td>15.8</td>\n",
       "    </tr>\n",
       "    <tr>\n",
       "      <th>3</th>\n",
       "      <td>UK</td>\n",
       "      <td>8.8</td>\n",
       "      <td>180</td>\n",
       "      <td>London</td>\n",
       "      <td>4</td>\n",
       "      <td>15.5</td>\n",
       "    </tr>\n",
       "    <tr>\n",
       "      <th>4</th>\n",
       "      <td>Macau</td>\n",
       "      <td>8.7</td>\n",
       "      <td>80</td>\n",
       "      <td>Macau</td>\n",
       "      <td>5</td>\n",
       "      <td>13.4</td>\n",
       "    </tr>\n",
       "    <tr>\n",
       "      <th>5</th>\n",
       "      <td>Malaysia</td>\n",
       "      <td>8.6</td>\n",
       "      <td>100</td>\n",
       "      <td>Kuala Lumpur</td>\n",
       "      <td>6</td>\n",
       "      <td>13.3</td>\n",
       "    </tr>\n",
       "    <tr>\n",
       "      <th>6</th>\n",
       "      <td>China</td>\n",
       "      <td>8.4</td>\n",
       "      <td>120</td>\n",
       "      <td>Shenzhen</td>\n",
       "      <td>7</td>\n",
       "      <td>12.1</td>\n",
       "    </tr>\n",
       "    <tr>\n",
       "      <th>7</th>\n",
       "      <td>USA</td>\n",
       "      <td>8.3</td>\n",
       "      <td>130</td>\n",
       "      <td>New York City</td>\n",
       "      <td>8</td>\n",
       "      <td>11.6</td>\n",
       "    </tr>\n",
       "    <tr>\n",
       "      <th>8</th>\n",
       "      <td>Turkey</td>\n",
       "      <td>8.2</td>\n",
       "      <td>125</td>\n",
       "      <td>Antalya</td>\n",
       "      <td>9</td>\n",
       "      <td>10.3</td>\n",
       "    </tr>\n",
       "    <tr>\n",
       "      <th>9</th>\n",
       "      <td>France</td>\n",
       "      <td>8.1</td>\n",
       "      <td>112</td>\n",
       "      <td>Paris</td>\n",
       "      <td>10</td>\n",
       "      <td>9.8</td>\n",
       "    </tr>\n",
       "  </tbody>\n",
       "</table>\n",
       "</div>"
      ],
      "text/plain": [
       "  Destinations  Feedback Score  Hotel           City  Rank  Tourists_Millions\n",
       "0    Hong Kong             9.2    120      Hong Kong     1               23.7\n",
       "1    Singapore             9.1    150      Singapore     2               21.3\n",
       "2     Thailand             9.0    160        Bangkok     3               15.8\n",
       "3           UK             8.8    180         London     4               15.5\n",
       "4        Macau             8.7     80          Macau     5               13.4\n",
       "5     Malaysia             8.6    100   Kuala Lumpur     6               13.3\n",
       "6        China             8.4    120       Shenzhen     7               12.1\n",
       "7          USA             8.3    130  New York City     8               11.6\n",
       "8       Turkey             8.2    125        Antalya     9               10.3\n",
       "9       France             8.1    112          Paris    10                9.8"
      ]
     },
     "execution_count": 12,
     "metadata": {},
     "output_type": "execute_result"
    }
   ],
   "source": [
    "df[df['Feedback Score']>8]"
   ]
  },
  {
   "cell_type": "markdown",
   "id": "13bbab75",
   "metadata": {},
   "source": [
    "8-Filter the data score below 2 ( I need to know if these destinations should be removed or there is a problem)"
   ]
  },
  {
   "cell_type": "code",
   "execution_count": 13,
   "id": "9e108710",
   "metadata": {},
   "outputs": [
    {
     "data": {
      "text/html": [
       "<div>\n",
       "<style scoped>\n",
       "    .dataframe tbody tr th:only-of-type {\n",
       "        vertical-align: middle;\n",
       "    }\n",
       "\n",
       "    .dataframe tbody tr th {\n",
       "        vertical-align: top;\n",
       "    }\n",
       "\n",
       "    .dataframe thead th {\n",
       "        text-align: right;\n",
       "    }\n",
       "</style>\n",
       "<table border=\"1\" class=\"dataframe\">\n",
       "  <thead>\n",
       "    <tr style=\"text-align: right;\">\n",
       "      <th></th>\n",
       "      <th>Destinations</th>\n",
       "      <th>Feedback Score</th>\n",
       "      <th>Hotel</th>\n",
       "      <th>City</th>\n",
       "      <th>Rank</th>\n",
       "      <th>Tourists_Millions</th>\n",
       "    </tr>\n",
       "  </thead>\n",
       "  <tbody>\n",
       "  </tbody>\n",
       "</table>\n",
       "</div>"
      ],
      "text/plain": [
       "Empty DataFrame\n",
       "Columns: [Destinations, Feedback Score, Hotel, City, Rank, Tourists_Millions]\n",
       "Index: []"
      ]
     },
     "execution_count": 13,
     "metadata": {},
     "output_type": "execute_result"
    }
   ],
   "source": [
    "df[df['Feedback Score']<2]"
   ]
  },
  {
   "cell_type": "code",
   "execution_count": 14,
   "id": "417de7f9",
   "metadata": {
    "scrolled": true
   },
   "outputs": [
    {
     "data": {
      "text/html": [
       "<div>\n",
       "<style scoped>\n",
       "    .dataframe tbody tr th:only-of-type {\n",
       "        vertical-align: middle;\n",
       "    }\n",
       "\n",
       "    .dataframe tbody tr th {\n",
       "        vertical-align: top;\n",
       "    }\n",
       "\n",
       "    .dataframe thead th {\n",
       "        text-align: right;\n",
       "    }\n",
       "</style>\n",
       "<table border=\"1\" class=\"dataframe\">\n",
       "  <thead>\n",
       "    <tr style=\"text-align: right;\">\n",
       "      <th></th>\n",
       "      <th>Hotel</th>\n",
       "      <th>Feedback Score</th>\n",
       "    </tr>\n",
       "  </thead>\n",
       "  <tbody>\n",
       "    <tr>\n",
       "      <th>Hotel</th>\n",
       "      <td>1.000000</td>\n",
       "      <td>0.515793</td>\n",
       "    </tr>\n",
       "    <tr>\n",
       "      <th>Feedback Score</th>\n",
       "      <td>0.515793</td>\n",
       "      <td>1.000000</td>\n",
       "    </tr>\n",
       "  </tbody>\n",
       "</table>\n",
       "</div>"
      ],
      "text/plain": [
       "                   Hotel  Feedback Score\n",
       "Hotel           1.000000        0.515793\n",
       "Feedback Score  0.515793        1.000000"
      ]
     },
     "execution_count": 14,
     "metadata": {},
     "output_type": "execute_result"
    }
   ],
   "source": [
    "df[['Hotel','Feedback Score']].corr()"
   ]
  },
  {
   "cell_type": "code",
   "execution_count": 26,
   "id": "e01aa248",
   "metadata": {},
   "outputs": [],
   "source": [
    "import matplotlib.pyplot as plt"
   ]
  },
  {
   "cell_type": "code",
   "execution_count": 34,
   "id": "ff04c67e",
   "metadata": {},
   "outputs": [
    {
     "data": {
      "text/plain": [
       "<AxesSubplot:>"
      ]
     },
     "execution_count": 34,
     "metadata": {},
     "output_type": "execute_result"
    },
    {
     "data": {
      "image/png": "[encoded data removed]",
      "text/plain": [
       "<Figure size 432x288 with 1 Axes>"
      ]
     },
     "metadata": {
      "needs_background": "light"
     },
     "output_type": "display_data"
    }
   ],
   "source": [
    "df['Feedback Score'].plot.barh(x='Feedback Score', y='Destinations')\n"
   ]
  },
  {
   "cell_type": "code",
   "execution_count": null,
   "id": "9088706a",
   "metadata": {},
   "outputs": [],
   "source": []
  },
  {
   "cell_type": "code",
   "execution_count": 16,
   "id": "47bfff39",
   "metadata": {},
   "outputs": [
    {
     "data": {
      "text/plain": [
       "array([[<AxesSubplot:title={'center':'Feedback Score'}>,\n",
       "        <AxesSubplot:title={'center':'Hotel'}>],\n",
       "       [<AxesSubplot:title={'center':'Rank'}>,\n",
       "        <AxesSubplot:title={'center':'Tourists_Millions'}>]], dtype=object)"
      ]
     },
     "execution_count": 16,
     "metadata": {},
     "output_type": "execute_result"
    },
    {
     "data": {
      "image/png": "[encoded data removed]",
      "text/plain": [
       "<Figure size 432x288 with 4 Axes>"
      ]
     },
     "metadata": {
      "needs_background": "light"
     },
     "output_type": "display_data"
    }
   ],
   "source": [
    "df.hist()"
   ]
  },
  {
   "cell_type": "code",
   "execution_count": 17,
   "id": "06277fa5",
   "metadata": {},
   "outputs": [
    {
     "data": {
      "text/plain": [
       "array([[<AxesSubplot:xlabel='Feedback Score', ylabel='Feedback Score'>,\n",
       "        <AxesSubplot:xlabel='Hotel', ylabel='Feedback Score'>,\n",
       "        <AxesSubplot:xlabel='Rank', ylabel='Feedback Score'>,\n",
       "        <AxesSubplot:xlabel='Tourists_Millions', ylabel='Feedback Score'>],\n",
       "       [<AxesSubplot:xlabel='Feedback Score', ylabel='Hotel'>,\n",
       "        <AxesSubplot:xlabel='Hotel', ylabel='Hotel'>,\n",
       "        <AxesSubplot:xlabel='Rank', ylabel='Hotel'>,\n",
       "        <AxesSubplot:xlabel='Tourists_Millions', ylabel='Hotel'>],\n",
       "       [<AxesSubplot:xlabel='Feedback Score', ylabel='Rank'>,\n",
       "        <AxesSubplot:xlabel='Hotel', ylabel='Rank'>,\n",
       "        <AxesSubplot:xlabel='Rank', ylabel='Rank'>,\n",
       "        <AxesSubplot:xlabel='Tourists_Millions', ylabel='Rank'>],\n",
       "       [<AxesSubplot:xlabel='Feedback Score', ylabel='Tourists_Millions'>,\n",
       "        <AxesSubplot:xlabel='Hotel', ylabel='Tourists_Millions'>,\n",
       "        <AxesSubplot:xlabel='Rank', ylabel='Tourists_Millions'>,\n",
       "        <AxesSubplot:xlabel='Tourists_Millions', ylabel='Tourists_Millions'>]],\n",
       "      dtype=object)"
      ]
     },
     "execution_count": 17,
     "metadata": {},
     "output_type": "execute_result"
    },
    {
     "data": {
      "image/png": "[encoded data removed]",
      "text/plain": [
       "<Figure size 720x720 with 16 Axes>"
      ]
     },
     "metadata": {
      "needs_background": "light"
     },
     "output_type": "display_data"
    }
   ],
   "source": [
    "from pandas.plotting import scatter_matrix\n",
    "scatter_matrix(df, figsize=(10,10))"
   ]
  },
  {
   "cell_type": "code",
   "execution_count": 38,
   "id": "c1c93ea9",
   "metadata": {},
   "outputs": [
    {
     "data": {
      "text/html": [
       "<div>\n",
       "<style scoped>\n",
       "    .dataframe tbody tr th:only-of-type {\n",
       "        vertical-align: middle;\n",
       "    }\n",
       "\n",
       "    .dataframe tbody tr th {\n",
       "        vertical-align: top;\n",
       "    }\n",
       "\n",
       "    .dataframe thead th {\n",
       "        text-align: right;\n",
       "    }\n",
       "</style>\n",
       "<table border=\"1\" class=\"dataframe\">\n",
       "  <thead>\n",
       "    <tr style=\"text-align: right;\">\n",
       "      <th></th>\n",
       "      <th>Destinations</th>\n",
       "      <th>Feedback Score</th>\n",
       "    </tr>\n",
       "  </thead>\n",
       "  <tbody>\n",
       "    <tr>\n",
       "      <th>0</th>\n",
       "      <td>Hong Kong</td>\n",
       "      <td>9.2</td>\n",
       "    </tr>\n",
       "    <tr>\n",
       "      <th>1</th>\n",
       "      <td>Singapore</td>\n",
       "      <td>9.1</td>\n",
       "    </tr>\n",
       "    <tr>\n",
       "      <th>2</th>\n",
       "      <td>Thailand</td>\n",
       "      <td>9.0</td>\n",
       "    </tr>\n",
       "    <tr>\n",
       "      <th>3</th>\n",
       "      <td>UK</td>\n",
       "      <td>8.8</td>\n",
       "    </tr>\n",
       "    <tr>\n",
       "      <th>4</th>\n",
       "      <td>Macau</td>\n",
       "      <td>8.7</td>\n",
       "    </tr>\n",
       "    <tr>\n",
       "      <th>5</th>\n",
       "      <td>Malaysia</td>\n",
       "      <td>8.6</td>\n",
       "    </tr>\n",
       "    <tr>\n",
       "      <th>6</th>\n",
       "      <td>China</td>\n",
       "      <td>8.4</td>\n",
       "    </tr>\n",
       "    <tr>\n",
       "      <th>7</th>\n",
       "      <td>USA</td>\n",
       "      <td>8.3</td>\n",
       "    </tr>\n",
       "    <tr>\n",
       "      <th>8</th>\n",
       "      <td>Turkey</td>\n",
       "      <td>8.2</td>\n",
       "    </tr>\n",
       "    <tr>\n",
       "      <th>9</th>\n",
       "      <td>France</td>\n",
       "      <td>8.1</td>\n",
       "    </tr>\n",
       "    <tr>\n",
       "      <th>10</th>\n",
       "      <td>Italy</td>\n",
       "      <td>7.9</td>\n",
       "    </tr>\n",
       "    <tr>\n",
       "      <th>11</th>\n",
       "      <td>UAE</td>\n",
       "      <td>7.8</td>\n",
       "    </tr>\n",
       "    <tr>\n",
       "      <th>12</th>\n",
       "      <td>Russia</td>\n",
       "      <td>7.7</td>\n",
       "    </tr>\n",
       "    <tr>\n",
       "      <th>13</th>\n",
       "      <td>Czech Republic</td>\n",
       "      <td>7.6</td>\n",
       "    </tr>\n",
       "    <tr>\n",
       "      <th>14</th>\n",
       "      <td>Spain</td>\n",
       "      <td>7.5</td>\n",
       "    </tr>\n",
       "  </tbody>\n",
       "</table>\n",
       "</div>"
      ],
      "text/plain": [
       "      Destinations  Feedback Score\n",
       "0        Hong Kong             9.2\n",
       "1        Singapore             9.1\n",
       "2         Thailand             9.0\n",
       "3               UK             8.8\n",
       "4            Macau             8.7\n",
       "5         Malaysia             8.6\n",
       "6            China             8.4\n",
       "7              USA             8.3\n",
       "8           Turkey             8.2\n",
       "9           France             8.1\n",
       "10           Italy             7.9\n",
       "11             UAE             7.8\n",
       "12          Russia             7.7\n",
       "13  Czech Republic             7.6\n",
       "14           Spain             7.5"
      ]
     },
     "execution_count": 38,
     "metadata": {},
     "output_type": "execute_result"
    }
   ],
   "source": [
    "df[['Destinations','Feedback Score']]"
   ]
  },
  {
   "cell_type": "markdown",
   "id": "189d8547",
   "metadata": {},
   "source": [
    "# End"
   ]
  },
  {
   "cell_type": "code",
   "execution_count": null,
   "id": "c4966150",
   "metadata": {},
   "outputs": [],
   "source": []
  }
 ],
 "metadata": {
  "kernelspec": {
   "display_name": "Python 3",
   "language": "python",
   "name": "python3"
  },
  "language_info": {
   "codemirror_mode": {
    "name": "ipython",
    "version": 3
   },
   "file_extension": ".py",
   "mimetype": "text/x-python",
   "name": "python",
   "nbconvert_exporter": "python",
   "pygments_lexer": "ipython3",
   "version": "3.8.8"
  }
 },
 "nbformat": 4,
 "nbformat_minor": 5
}
